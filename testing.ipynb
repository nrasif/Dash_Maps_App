{
 "cells": [
  {
   "cell_type": "code",
   "execution_count": 11,
   "metadata": {},
   "outputs": [],
   "source": [
    "import pandas as pd\n",
    "import numpy as np\n",
    "import geopandas as gpd\n",
    "\n",
    "all_blocks = gpd.read_file('GeoJSON Files/blocks.geojson')"
   ]
  },
  {
   "cell_type": "code",
   "execution_count": 13,
   "metadata": {},
   "outputs": [
    {
     "data": {
      "text/html": [
       "<div>\n",
       "<style scoped>\n",
       "    .dataframe tbody tr th:only-of-type {\n",
       "        vertical-align: middle;\n",
       "    }\n",
       "\n",
       "    .dataframe tbody tr th {\n",
       "        vertical-align: top;\n",
       "    }\n",
       "\n",
       "    .dataframe thead th {\n",
       "        text-align: right;\n",
       "    }\n",
       "</style>\n",
       "<table border=\"1\" class=\"dataframe\">\n",
       "  <thead>\n",
       "    <tr style=\"text-align: right;\">\n",
       "      <th></th>\n",
       "      <th>Block_Name</th>\n",
       "      <th>Status</th>\n",
       "      <th>Operator</th>\n",
       "      <th>num_wells</th>\n",
       "      <th>sq_km</th>\n",
       "      <th>est_reserve</th>\n",
       "      <th>geometry</th>\n",
       "    </tr>\n",
       "  </thead>\n",
       "  <tbody>\n",
       "    <tr>\n",
       "      <th>0</th>\n",
       "      <td>East-Block</td>\n",
       "      <td>Production</td>\n",
       "      <td>A</td>\n",
       "      <td>20</td>\n",
       "      <td>145.97</td>\n",
       "      <td>100</td>\n",
       "      <td>POLYGON ((96.40011 5.20866, 96.43375 5.22165, ...</td>\n",
       "    </tr>\n",
       "    <tr>\n",
       "      <th>1</th>\n",
       "      <td>West-Block</td>\n",
       "      <td>Production</td>\n",
       "      <td>B</td>\n",
       "      <td>50</td>\n",
       "      <td>171.38</td>\n",
       "      <td>420</td>\n",
       "      <td>POLYGON ((96.15006 5.27447, 96.14897 5.41917, ...</td>\n",
       "    </tr>\n",
       "    <tr>\n",
       "      <th>2</th>\n",
       "      <td>South-Block</td>\n",
       "      <td>Exploration</td>\n",
       "      <td>A</td>\n",
       "      <td>0</td>\n",
       "      <td>48.74</td>\n",
       "      <td>150</td>\n",
       "      <td>POLYGON ((96.15021 5.32141, 96.15075 5.27437, ...</td>\n",
       "    </tr>\n",
       "    <tr>\n",
       "      <th>3</th>\n",
       "      <td>Center-Block</td>\n",
       "      <td>Exploration</td>\n",
       "      <td>C</td>\n",
       "      <td>0</td>\n",
       "      <td>48.98</td>\n",
       "      <td>120</td>\n",
       "      <td>POLYGON ((96.14996 5.32193, 96.26084 5.32085, ...</td>\n",
       "    </tr>\n",
       "    <tr>\n",
       "      <th>4</th>\n",
       "      <td>North-Block</td>\n",
       "      <td>Production</td>\n",
       "      <td>A</td>\n",
       "      <td>30</td>\n",
       "      <td>64.55</td>\n",
       "      <td>220</td>\n",
       "      <td>POLYGON ((96.08469 5.41977, 96.21141 5.41977, ...</td>\n",
       "    </tr>\n",
       "  </tbody>\n",
       "</table>\n",
       "</div>"
      ],
      "text/plain": [
       "     Block_Name       Status Operator  num_wells   sq_km  est_reserve  \\\n",
       "0    East-Block   Production        A         20  145.97          100   \n",
       "1    West-Block   Production        B         50  171.38          420   \n",
       "2   South-Block  Exploration        A          0   48.74          150   \n",
       "3  Center-Block  Exploration        C          0   48.98          120   \n",
       "4   North-Block   Production        A         30   64.55          220   \n",
       "\n",
       "                                            geometry  \n",
       "0  POLYGON ((96.40011 5.20866, 96.43375 5.22165, ...  \n",
       "1  POLYGON ((96.15006 5.27447, 96.14897 5.41917, ...  \n",
       "2  POLYGON ((96.15021 5.32141, 96.15075 5.27437, ...  \n",
       "3  POLYGON ((96.14996 5.32193, 96.26084 5.32085, ...  \n",
       "4  POLYGON ((96.08469 5.41977, 96.21141 5.41977, ...  "
      ]
     },
     "execution_count": 13,
     "metadata": {},
     "output_type": "execute_result"
    }
   ],
   "source": [
    "all_blocks"
   ]
  },
  {
   "cell_type": "code",
   "execution_count": 23,
   "metadata": {},
   "outputs": [],
   "source": [
    "all_blocks['tooltip'] = 'Block Name: ' + all_blocks.Block_Name + '<BR> Status: ' + all_blocks.Status + '<BR> Operator: ' + all_blocks.Operator + '<BR> Number of Wells: ' + all_blocks.num_wells.astype(str) + '<BR> Area in Sq. Kilometers ' + all_blocks.sq_km.astype(str) + '<BR> Estimated Reserves in Million of Barrels: '+ all_blocks.est_reserve.astype(str)"
   ]
  },
  {
   "cell_type": "code",
   "execution_count": 25,
   "metadata": {},
   "outputs": [
    {
     "data": {
      "text/plain": [
       "'{\"type\": \"FeatureCollection\", \"features\": [{\"id\": \"0\", \"type\": \"Feature\", \"properties\": {\"Block_Name\": \"East-Block\", \"Status\": \"Production\", \"Operator\": \"A\", \"num_wells\": 20, \"sq_km\": 145.97, \"est_reserve\": 100, \"tooltip\": \"Block Name: East-Block<BR> Status: Production<BR> Operator: A<BR> Number of Wells: 20<BR> Area in Sq. Kilometers 145.97<BR> Estimated Reserves in Million of Barrels: 100\"}, \"geometry\": {\"type\": \"Polygon\", \"coordinates\": [[[96.4001057373053, 5.208656351062942], [96.43375136718726, 5.221648609300516], [96.46259047851515, 5.23737571951817], [96.46121718750072, 5.279084831409563], [96.35684707031174, 5.279768564031215], [96.35753371582075, 5.340617736210092], [96.26140334472717, 5.341985064196123], [96.26140334472717, 5.261307518914151], [96.32663466796942, 5.23053789406255], [96.4001057373053, 5.208656351062942]]]}}, {\"id\": \"1\", \"type\": \"Feature\", \"properties\": {\"Block_Name\": \"West-Block\", \"Status\": \"Production\", \"Operator\": \"B\", \"num_wells\": 50, \"sq_km\": 171.38, \"est_reserve\": 420, \"tooltip\": \"Block Name: West-Block<BR> Status: Production<BR> Operator: B<BR> Number of Wells: 50<BR> Area in Sq. Kilometers 171.38<BR> Estimated Reserves in Million of Barrels: 420\"}, \"geometry\": {\"type\": \"Polygon\", \"coordinates\": [[[96.1500638674625, 5.274467547614364], [96.14897384519247, 5.419171436272961], [96.01490110586337, 5.42134172287426], [96.01526444661994, 5.383360416138984], [96.07521567152321, 5.3826369393847955], [96.07557901227983, 5.355867695999478], [96.03488484749829, 5.355867696870973], [96.03452150673985, 5.334162042989206], [96.0501451592911, 5.327288425995064], [96.06431544881394, 5.305219978512483], [96.07812239757834, 5.292557397961701], [96.10500961359554, 5.285683317057433], [96.13117014809939, 5.279894558164472], [96.14025366702509, 5.278809159853225], [96.1500638674625, 5.274467547614364]]]}}, {\"id\": \"2\", \"type\": \"Feature\", \"properties\": {\"Block_Name\": \"South-Block\", \"Status\": \"Exploration\", \"Operator\": \"A\", \"num_wells\": 0, \"sq_km\": 48.74, \"est_reserve\": 150, \"tooltip\": \"Block Name: South-Block<BR> Status: Exploration<BR> Operator: A<BR> Number of Wells: 0<BR> Area in Sq. Kilometers 48.74<BR> Estimated Reserves in Million of Barrels: 150\"}, \"geometry\": {\"type\": \"Polygon\", \"coordinates\": [[[96.15020619743746, 5.321413143458614], [96.15075239154925, 5.274369183512903], [96.15921840028875, 5.269746173698309], [96.19062456174476, 5.259684209917438], [96.21137993801023, 5.259140315346897], [96.23814344951205, 5.262403675642247], [96.26108360222605, 5.263763404046799], [96.26108360222605, 5.320325462349771], [96.15020619743746, 5.321413143458614]]]}}, {\"id\": \"3\", \"type\": \"Feature\", \"properties\": {\"Block_Name\": \"Center-Block\", \"Status\": \"Exploration\", \"Operator\": \"C\", \"num_wells\": 0, \"sq_km\": 48.98, \"est_reserve\": 120, \"tooltip\": \"Block Name: Center-Block<BR> Status: Exploration<BR> Operator: C<BR> Number of Wells: 0<BR> Area in Sq. Kilometers 48.98<BR> Estimated Reserves in Million of Barrels: 120\"}, \"geometry\": {\"type\": \"Polygon\", \"coordinates\": [[[96.14996393515247, 5.321933704052], [96.26084133994107, 5.320846023863609], [96.26138753405411, 5.3417835292513445], [96.35451363019473, 5.340967795663914], [96.35451363019473, 5.36924592531598], [96.29224750139701, 5.369789722668301], [96.29197440434115, 5.401329137491388], [96.33922019505121, 5.401057252985197], [96.33922019505121, 5.419001368471612], [96.14887154692752, 5.419545121233369], [96.14996393515247, 5.321933704052]]]}}, {\"id\": \"4\", \"type\": \"Feature\", \"properties\": {\"Block_Name\": \"North-Block\", \"Status\": \"Production\", \"Operator\": \"A\", \"num_wells\": 30, \"sq_km\": 64.55, \"est_reserve\": 220, \"tooltip\": \"Block Name: North-Block<BR> Status: Production<BR> Operator: A<BR> Number of Wells: 30<BR> Area in Sq. Kilometers 64.55<BR> Estimated Reserves in Million of Barrels: 220\"}, \"geometry\": {\"type\": \"Polygon\", \"coordinates\": [[[96.08469351270912, 5.419774728990944], [96.21141054675434, 5.419774728990944], [96.33102705734086, 5.41868722339008], [96.33048086322776, 5.43826202425123], [96.24745935816333, 5.438805759641596], [96.24745935816333, 5.451311537935112], [96.30644832228882, 5.451855261522326], [96.30590212817572, 5.467079321826603], [96.15952210608873, 5.466535612046528], [96.16006830020183, 5.439893228949643], [96.08523970682091, 5.440980696292215], [96.08469351270912, 5.419774728990944]]]}}]}'"
      ]
     },
     "execution_count": 25,
     "metadata": {},
     "output_type": "execute_result"
    }
   ],
   "source": []
  }
 ],
 "metadata": {
  "kernelspec": {
   "display_name": "Waviv_MapProject",
   "language": "python",
   "name": "python3"
  },
  "language_info": {
   "codemirror_mode": {
    "name": "ipython",
    "version": 3
   },
   "file_extension": ".py",
   "mimetype": "text/x-python",
   "name": "python",
   "nbconvert_exporter": "python",
   "pygments_lexer": "ipython3",
   "version": "3.10.9"
  },
  "orig_nbformat": 4
 },
 "nbformat": 4,
 "nbformat_minor": 2
}
