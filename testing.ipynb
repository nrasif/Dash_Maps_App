{
 "cells": [
  {
   "cell_type": "code",
   "execution_count": 4,
   "metadata": {},
   "outputs": [],
   "source": [
    "import pandas as pd\n",
    "import numpy as np\n",
    "import geopandas as gpd\n",
    "import dash\n",
    "import dash_leaflet as dl\n",
    "\n",
    "import json\n",
    "from dash_extensions.javascript import arrow_function\n",
    "import random\n",
    "\n",
    "all_blocks = gpd.read_file('GeoJSON Files/blocks.geojson')\n",
    "all_well = gpd.read_file('GeoJSON Files/wells.geojson')"
   ]
  },
  {
   "cell_type": "code",
   "execution_count": 61,
   "metadata": {},
   "outputs": [],
   "source": [
    "with open('blocks.geojson' , 'w') as file:\n",
    "    file.write(all_blocks.to_json())"
   ]
  },
  {
   "cell_type": "code",
   "execution_count": 49,
   "metadata": {},
   "outputs": [
    {
     "data": {
      "text/html": [
       "<div>\n",
       "<style scoped>\n",
       "    .dataframe tbody tr th:only-of-type {\n",
       "        vertical-align: middle;\n",
       "    }\n",
       "\n",
       "    .dataframe tbody tr th {\n",
       "        vertical-align: top;\n",
       "    }\n",
       "\n",
       "    .dataframe thead th {\n",
       "        text-align: right;\n",
       "    }\n",
       "</style>\n",
       "<table border=\"1\" class=\"dataframe\">\n",
       "  <thead>\n",
       "    <tr style=\"text-align: right;\">\n",
       "      <th></th>\n",
       "      <th>Block_Name</th>\n",
       "      <th>Status</th>\n",
       "      <th>Operator</th>\n",
       "      <th>num_wells</th>\n",
       "      <th>sq_km</th>\n",
       "      <th>est_reserve</th>\n",
       "      <th>geometry</th>\n",
       "    </tr>\n",
       "  </thead>\n",
       "  <tbody>\n",
       "    <tr>\n",
       "      <th>0</th>\n",
       "      <td>East-Block</td>\n",
       "      <td>Production</td>\n",
       "      <td>A</td>\n",
       "      <td>20</td>\n",
       "      <td>145.97</td>\n",
       "      <td>100</td>\n",
       "      <td>POLYGON ((96.40011 5.20866, 96.43375 5.22165, ...</td>\n",
       "    </tr>\n",
       "    <tr>\n",
       "      <th>1</th>\n",
       "      <td>West-Block</td>\n",
       "      <td>Production</td>\n",
       "      <td>B</td>\n",
       "      <td>50</td>\n",
       "      <td>171.38</td>\n",
       "      <td>420</td>\n",
       "      <td>POLYGON ((96.15006 5.27447, 96.14897 5.41917, ...</td>\n",
       "    </tr>\n",
       "    <tr>\n",
       "      <th>2</th>\n",
       "      <td>South-Block</td>\n",
       "      <td>Exploration</td>\n",
       "      <td>A</td>\n",
       "      <td>0</td>\n",
       "      <td>48.74</td>\n",
       "      <td>150</td>\n",
       "      <td>POLYGON ((96.15021 5.32141, 96.15075 5.27437, ...</td>\n",
       "    </tr>\n",
       "    <tr>\n",
       "      <th>3</th>\n",
       "      <td>Center-Block</td>\n",
       "      <td>Exploration</td>\n",
       "      <td>C</td>\n",
       "      <td>0</td>\n",
       "      <td>48.98</td>\n",
       "      <td>120</td>\n",
       "      <td>POLYGON ((96.14996 5.32193, 96.26084 5.32085, ...</td>\n",
       "    </tr>\n",
       "    <tr>\n",
       "      <th>4</th>\n",
       "      <td>North-Block</td>\n",
       "      <td>Production</td>\n",
       "      <td>A</td>\n",
       "      <td>30</td>\n",
       "      <td>64.55</td>\n",
       "      <td>220</td>\n",
       "      <td>POLYGON ((96.08469 5.41977, 96.21141 5.41977, ...</td>\n",
       "    </tr>\n",
       "  </tbody>\n",
       "</table>\n",
       "</div>"
      ],
      "text/plain": [
       "     Block_Name       Status Operator  num_wells   sq_km  est_reserve  \\\n",
       "0    East-Block   Production        A         20  145.97          100   \n",
       "1    West-Block   Production        B         50  171.38          420   \n",
       "2   South-Block  Exploration        A          0   48.74          150   \n",
       "3  Center-Block  Exploration        C          0   48.98          120   \n",
       "4   North-Block   Production        A         30   64.55          220   \n",
       "\n",
       "                                            geometry  \n",
       "0  POLYGON ((96.40011 5.20866, 96.43375 5.22165, ...  \n",
       "1  POLYGON ((96.15006 5.27447, 96.14897 5.41917, ...  \n",
       "2  POLYGON ((96.15021 5.32141, 96.15075 5.27437, ...  \n",
       "3  POLYGON ((96.14996 5.32193, 96.26084 5.32085, ...  \n",
       "4  POLYGON ((96.08469 5.41977, 96.21141 5.41977, ...  "
      ]
     },
     "execution_count": 49,
     "metadata": {},
     "output_type": "execute_result"
    }
   ],
   "source": [
    "import pandas as pd\n",
    "df_blocks = pd.DataFrame(all_blocks)\n",
    "df_blocks"
   ]
  },
  {
   "cell_type": "code",
   "execution_count": 51,
   "metadata": {},
   "outputs": [],
   "source": [
    "df_blocks = df_blocks.set_geometry(\"geometry\")"
   ]
  },
  {
   "cell_type": "code",
   "execution_count": 52,
   "metadata": {},
   "outputs": [
    {
     "data": {
      "text/html": [
       "<div>\n",
       "<style scoped>\n",
       "    .dataframe tbody tr th:only-of-type {\n",
       "        vertical-align: middle;\n",
       "    }\n",
       "\n",
       "    .dataframe tbody tr th {\n",
       "        vertical-align: top;\n",
       "    }\n",
       "\n",
       "    .dataframe thead th {\n",
       "        text-align: right;\n",
       "    }\n",
       "</style>\n",
       "<table border=\"1\" class=\"dataframe\">\n",
       "  <thead>\n",
       "    <tr style=\"text-align: right;\">\n",
       "      <th></th>\n",
       "      <th>Block_Name</th>\n",
       "      <th>Status</th>\n",
       "      <th>Operator</th>\n",
       "      <th>num_wells</th>\n",
       "      <th>sq_km</th>\n",
       "      <th>est_reserve</th>\n",
       "      <th>geometry</th>\n",
       "    </tr>\n",
       "  </thead>\n",
       "  <tbody>\n",
       "    <tr>\n",
       "      <th>0</th>\n",
       "      <td>East-Block</td>\n",
       "      <td>Production</td>\n",
       "      <td>A</td>\n",
       "      <td>20</td>\n",
       "      <td>145.97</td>\n",
       "      <td>100</td>\n",
       "      <td>POLYGON ((96.40011 5.20866, 96.43375 5.22165, ...</td>\n",
       "    </tr>\n",
       "    <tr>\n",
       "      <th>1</th>\n",
       "      <td>West-Block</td>\n",
       "      <td>Production</td>\n",
       "      <td>B</td>\n",
       "      <td>50</td>\n",
       "      <td>171.38</td>\n",
       "      <td>420</td>\n",
       "      <td>POLYGON ((96.15006 5.27447, 96.14897 5.41917, ...</td>\n",
       "    </tr>\n",
       "    <tr>\n",
       "      <th>2</th>\n",
       "      <td>South-Block</td>\n",
       "      <td>Exploration</td>\n",
       "      <td>A</td>\n",
       "      <td>0</td>\n",
       "      <td>48.74</td>\n",
       "      <td>150</td>\n",
       "      <td>POLYGON ((96.15021 5.32141, 96.15075 5.27437, ...</td>\n",
       "    </tr>\n",
       "    <tr>\n",
       "      <th>3</th>\n",
       "      <td>Center-Block</td>\n",
       "      <td>Exploration</td>\n",
       "      <td>C</td>\n",
       "      <td>0</td>\n",
       "      <td>48.98</td>\n",
       "      <td>120</td>\n",
       "      <td>POLYGON ((96.14996 5.32193, 96.26084 5.32085, ...</td>\n",
       "    </tr>\n",
       "    <tr>\n",
       "      <th>4</th>\n",
       "      <td>North-Block</td>\n",
       "      <td>Production</td>\n",
       "      <td>A</td>\n",
       "      <td>30</td>\n",
       "      <td>64.55</td>\n",
       "      <td>220</td>\n",
       "      <td>POLYGON ((96.08469 5.41977, 96.21141 5.41977, ...</td>\n",
       "    </tr>\n",
       "  </tbody>\n",
       "</table>\n",
       "</div>"
      ],
      "text/plain": [
       "     Block_Name       Status Operator  num_wells   sq_km  est_reserve  \\\n",
       "0    East-Block   Production        A         20  145.97          100   \n",
       "1    West-Block   Production        B         50  171.38          420   \n",
       "2   South-Block  Exploration        A          0   48.74          150   \n",
       "3  Center-Block  Exploration        C          0   48.98          120   \n",
       "4   North-Block   Production        A         30   64.55          220   \n",
       "\n",
       "                                            geometry  \n",
       "0  POLYGON ((96.40011 5.20866, 96.43375 5.22165, ...  \n",
       "1  POLYGON ((96.15006 5.27447, 96.14897 5.41917, ...  \n",
       "2  POLYGON ((96.15021 5.32141, 96.15075 5.27437, ...  \n",
       "3  POLYGON ((96.14996 5.32193, 96.26084 5.32085, ...  \n",
       "4  POLYGON ((96.08469 5.41977, 96.21141 5.41977, ...  "
      ]
     },
     "execution_count": 52,
     "metadata": {},
     "output_type": "execute_result"
    }
   ],
   "source": [
    "df_blocks"
   ]
  },
  {
   "cell_type": "code",
   "execution_count": 56,
   "metadata": {},
   "outputs": [
    {
     "data": {
      "text/plain": [
       "'{\"type\": \"FeatureCollection\", \"features\": [{\"id\": \"0\", \"type\": \"Feature\", \"properties\": {\"Block_Name\": \"East-Block\", \"Status\": \"Production\", \"Operator\": \"A\", \"num_wells\": 20, \"sq_km\": 145.97, \"est_reserve\": 100}, \"geometry\": {\"type\": \"Polygon\", \"coordinates\": [[[96.4001057373053, 5.208656351062942], [96.43375136718726, 5.221648609300516], [96.46259047851515, 5.23737571951817], [96.46121718750072, 5.279084831409563], [96.35684707031174, 5.279768564031215], [96.35753371582075, 5.340617736210092], [96.26140334472717, 5.341985064196123], [96.26140334472717, 5.261307518914151], [96.32663466796942, 5.23053789406255], [96.4001057373053, 5.208656351062942]]]}}, {\"id\": \"1\", \"type\": \"Feature\", \"properties\": {\"Block_Name\": \"West-Block\", \"Status\": \"Production\", \"Operator\": \"B\", \"num_wells\": 50, \"sq_km\": 171.38, \"est_reserve\": 420}, \"geometry\": {\"type\": \"Polygon\", \"coordinates\": [[[96.1500638674625, 5.274467547614364], [96.14897384519247, 5.419171436272961], [96.01490110586337, 5.42134172287426], [96.01526444661994, 5.383360416138984], [96.07521567152321, 5.3826369393847955], [96.07557901227983, 5.355867695999478], [96.03488484749829, 5.355867696870973], [96.03452150673985, 5.334162042989206], [96.0501451592911, 5.327288425995064], [96.06431544881394, 5.305219978512483], [96.07812239757834, 5.292557397961701], [96.10500961359554, 5.285683317057433], [96.13117014809939, 5.279894558164472], [96.14025366702509, 5.278809159853225], [96.1500638674625, 5.274467547614364]]]}}, {\"id\": \"2\", \"type\": \"Feature\", \"properties\": {\"Block_Name\": \"South-Block\", \"Status\": \"Exploration\", \"Operator\": \"A\", \"num_wells\": 0, \"sq_km\": 48.74, \"est_reserve\": 150}, \"geometry\": {\"type\": \"Polygon\", \"coordinates\": [[[96.15020619743746, 5.321413143458614], [96.15075239154925, 5.274369183512903], [96.15921840028875, 5.269746173698309], [96.19062456174476, 5.259684209917438], [96.21137993801023, 5.259140315346897], [96.23814344951205, 5.262403675642247], [96.26108360222605, 5.263763404046799], [96.26108360222605, 5.320325462349771], [96.15020619743746, 5.321413143458614]]]}}, {\"id\": \"3\", \"type\": \"Feature\", \"properties\": {\"Block_Name\": \"Center-Block\", \"Status\": \"Exploration\", \"Operator\": \"C\", \"num_wells\": 0, \"sq_km\": 48.98, \"est_reserve\": 120}, \"geometry\": {\"type\": \"Polygon\", \"coordinates\": [[[96.14996393515247, 5.321933704052], [96.26084133994107, 5.320846023863609], [96.26138753405411, 5.3417835292513445], [96.35451363019473, 5.340967795663914], [96.35451363019473, 5.36924592531598], [96.29224750139701, 5.369789722668301], [96.29197440434115, 5.401329137491388], [96.33922019505121, 5.401057252985197], [96.33922019505121, 5.419001368471612], [96.14887154692752, 5.419545121233369], [96.14996393515247, 5.321933704052]]]}}, {\"id\": \"4\", \"type\": \"Feature\", \"properties\": {\"Block_Name\": \"North-Block\", \"Status\": \"Production\", \"Operator\": \"A\", \"num_wells\": 30, \"sq_km\": 64.55, \"est_reserve\": 220}, \"geometry\": {\"type\": \"Polygon\", \"coordinates\": [[[96.08469351270912, 5.419774728990944], [96.21141054675434, 5.419774728990944], [96.33102705734086, 5.41868722339008], [96.33048086322776, 5.43826202425123], [96.24745935816333, 5.438805759641596], [96.24745935816333, 5.451311537935112], [96.30644832228882, 5.451855261522326], [96.30590212817572, 5.467079321826603], [96.15952210608873, 5.466535612046528], [96.16006830020183, 5.439893228949643], [96.08523970682091, 5.440980696292215], [96.08469351270912, 5.419774728990944]]]}}]}'"
      ]
     },
     "execution_count": 56,
     "metadata": {},
     "output_type": "execute_result"
    }
   ],
   "source": [
    "df_blocks.to_json()"
   ]
  },
  {
   "cell_type": "code",
   "execution_count": 8,
   "metadata": {},
   "outputs": [
    {
     "data": {
      "text/plain": [
       "['East-Block', 'West-Block', 'South-Block', 'Center-Block', 'North-Block']"
      ]
     },
     "execution_count": 8,
     "metadata": {},
     "output_type": "execute_result"
    }
   ],
   "source": [
    "all_blocks['Block_Name'].to_list()"
   ]
  },
  {
   "cell_type": "code",
   "execution_count": 10,
   "metadata": {},
   "outputs": [
    {
     "data": {
      "text/plain": [
       "'East-Block'"
      ]
     },
     "execution_count": 10,
     "metadata": {},
     "output_type": "execute_result"
    }
   ],
   "source": [
    "all_blocks['Block_Name'].iloc[0]"
   ]
  },
  {
   "cell_type": "code",
   "execution_count": 11,
   "metadata": {},
   "outputs": [
    {
     "name": "stdout",
     "output_type": "stream",
     "text": [
      "East-Block\n",
      "West-Block\n",
      "South-Block\n",
      "Center-Block\n",
      "North-Block\n"
     ]
    }
   ],
   "source": [
    "for i in range(len(all_blocks['Block_Name'].to_list())):\n",
    "    print(all_blocks['Block_Name'].iloc[i])"
   ]
  },
  {
   "cell_type": "code",
   "execution_count": 16,
   "metadata": {},
   "outputs": [
    {
     "data": {
      "text/html": [
       "<div>\n",
       "<style scoped>\n",
       "    .dataframe tbody tr th:only-of-type {\n",
       "        vertical-align: middle;\n",
       "    }\n",
       "\n",
       "    .dataframe tbody tr th {\n",
       "        vertical-align: top;\n",
       "    }\n",
       "\n",
       "    .dataframe thead th {\n",
       "        text-align: right;\n",
       "    }\n",
       "</style>\n",
       "<table border=\"1\" class=\"dataframe\">\n",
       "  <thead>\n",
       "    <tr style=\"text-align: right;\">\n",
       "      <th></th>\n",
       "      <th>Well_Name</th>\n",
       "      <th>Well_Orientation</th>\n",
       "      <th>Well_Status</th>\n",
       "      <th>Well_Purpose</th>\n",
       "      <th>Well_Type</th>\n",
       "      <th>geometry</th>\n",
       "    </tr>\n",
       "  </thead>\n",
       "  <tbody>\n",
       "    <tr>\n",
       "      <th>0</th>\n",
       "      <td>Well-E1</td>\n",
       "      <td>Directional</td>\n",
       "      <td>Active</td>\n",
       "      <td>Production</td>\n",
       "      <td>Oil</td>\n",
       "      <td>POINT (96.33069 5.27458)</td>\n",
       "    </tr>\n",
       "    <tr>\n",
       "      <th>1</th>\n",
       "      <td>Well-N1</td>\n",
       "      <td>Vertical</td>\n",
       "      <td>Active</td>\n",
       "      <td>Production</td>\n",
       "      <td>Gas</td>\n",
       "      <td>POINT (96.19868 5.44510)</td>\n",
       "    </tr>\n",
       "    <tr>\n",
       "      <th>2</th>\n",
       "      <td>Well-W1</td>\n",
       "      <td>Directional</td>\n",
       "      <td>Active</td>\n",
       "      <td>Production</td>\n",
       "      <td>Oil</td>\n",
       "      <td>POINT (96.11406 5.33654)</td>\n",
       "    </tr>\n",
       "    <tr>\n",
       "      <th>3</th>\n",
       "      <td>Well-E2</td>\n",
       "      <td>Horizontal</td>\n",
       "      <td>Inactive</td>\n",
       "      <td>Monitoring</td>\n",
       "      <td>Oil</td>\n",
       "      <td>POINT (96.30160 5.32452)</td>\n",
       "    </tr>\n",
       "    <tr>\n",
       "      <th>4</th>\n",
       "      <td>Well-N2</td>\n",
       "      <td>Directional</td>\n",
       "      <td>Suspended</td>\n",
       "      <td>Abandonment</td>\n",
       "      <td>Observation</td>\n",
       "      <td>POINT (96.10940 5.43308)</td>\n",
       "    </tr>\n",
       "    <tr>\n",
       "      <th>5</th>\n",
       "      <td>Well-C1</td>\n",
       "      <td>Vertical</td>\n",
       "      <td>Active</td>\n",
       "      <td>Exploration</td>\n",
       "      <td>Oil</td>\n",
       "      <td>POINT (96.21456 5.36823)</td>\n",
       "    </tr>\n",
       "    <tr>\n",
       "      <th>6</th>\n",
       "      <td>Well-S1</td>\n",
       "      <td>Directional</td>\n",
       "      <td>Active</td>\n",
       "      <td>Exploration</td>\n",
       "      <td>Oil</td>\n",
       "      <td>POINT (96.17558 5.30896)</td>\n",
       "    </tr>\n",
       "    <tr>\n",
       "      <th>7</th>\n",
       "      <td>Well-W2</td>\n",
       "      <td>Horizontal</td>\n",
       "      <td>Inactive</td>\n",
       "      <td>Monitoring</td>\n",
       "      <td>Oil</td>\n",
       "      <td>POINT (96.09407 5.38058)</td>\n",
       "    </tr>\n",
       "    <tr>\n",
       "      <th>8</th>\n",
       "      <td>Well-E3</td>\n",
       "      <td>Vertical</td>\n",
       "      <td>Shut-in</td>\n",
       "      <td>Injection</td>\n",
       "      <td>Oil</td>\n",
       "      <td>POINT (96.44064 5.26732)</td>\n",
       "    </tr>\n",
       "  </tbody>\n",
       "</table>\n",
       "</div>"
      ],
      "text/plain": [
       "  Well_Name Well_Orientation Well_Status Well_Purpose    Well_Type  \\\n",
       "0   Well-E1      Directional      Active   Production          Oil   \n",
       "1   Well-N1         Vertical      Active   Production          Gas   \n",
       "2   Well-W1      Directional      Active   Production          Oil   \n",
       "3   Well-E2       Horizontal    Inactive   Monitoring          Oil   \n",
       "4   Well-N2      Directional   Suspended  Abandonment  Observation   \n",
       "5   Well-C1         Vertical      Active  Exploration          Oil   \n",
       "6   Well-S1      Directional      Active  Exploration          Oil   \n",
       "7   Well-W2       Horizontal    Inactive   Monitoring          Oil   \n",
       "8   Well-E3         Vertical     Shut-in    Injection          Oil   \n",
       "\n",
       "                   geometry  \n",
       "0  POINT (96.33069 5.27458)  \n",
       "1  POINT (96.19868 5.44510)  \n",
       "2  POINT (96.11406 5.33654)  \n",
       "3  POINT (96.30160 5.32452)  \n",
       "4  POINT (96.10940 5.43308)  \n",
       "5  POINT (96.21456 5.36823)  \n",
       "6  POINT (96.17558 5.30896)  \n",
       "7  POINT (96.09407 5.38058)  \n",
       "8  POINT (96.44064 5.26732)  "
      ]
     },
     "execution_count": 16,
     "metadata": {},
     "output_type": "execute_result"
    }
   ],
   "source": [
    "all_well[all_well['Well_Type'].isin(all_well['Well_Type'])]"
   ]
  },
  {
   "cell_type": "code",
   "execution_count": 6,
   "metadata": {},
   "outputs": [
    {
     "data": {
      "text/html": [
       "<div>\n",
       "<style scoped>\n",
       "    .dataframe tbody tr th:only-of-type {\n",
       "        vertical-align: middle;\n",
       "    }\n",
       "\n",
       "    .dataframe tbody tr th {\n",
       "        vertical-align: top;\n",
       "    }\n",
       "\n",
       "    .dataframe thead th {\n",
       "        text-align: right;\n",
       "    }\n",
       "</style>\n",
       "<table border=\"1\" class=\"dataframe\">\n",
       "  <thead>\n",
       "    <tr style=\"text-align: right;\">\n",
       "      <th></th>\n",
       "      <th>Well_Name</th>\n",
       "      <th>Well_Orientation</th>\n",
       "      <th>Well_Status</th>\n",
       "      <th>Well_Purpose</th>\n",
       "      <th>Well_Type</th>\n",
       "      <th>geometry</th>\n",
       "    </tr>\n",
       "  </thead>\n",
       "  <tbody>\n",
       "    <tr>\n",
       "      <th>0</th>\n",
       "      <td>Well-E1</td>\n",
       "      <td>Directional</td>\n",
       "      <td>Active</td>\n",
       "      <td>Production</td>\n",
       "      <td>Oil</td>\n",
       "      <td>POINT (96.33069 5.27458)</td>\n",
       "    </tr>\n",
       "    <tr>\n",
       "      <th>1</th>\n",
       "      <td>Well-N1</td>\n",
       "      <td>Vertical</td>\n",
       "      <td>Avtive</td>\n",
       "      <td>Production</td>\n",
       "      <td>Gas</td>\n",
       "      <td>POINT (96.19868 5.44510)</td>\n",
       "    </tr>\n",
       "    <tr>\n",
       "      <th>2</th>\n",
       "      <td>Well-W1</td>\n",
       "      <td>Directional</td>\n",
       "      <td>Active</td>\n",
       "      <td>Production</td>\n",
       "      <td>Oil</td>\n",
       "      <td>POINT (96.11406 5.33654)</td>\n",
       "    </tr>\n",
       "    <tr>\n",
       "      <th>3</th>\n",
       "      <td>Well-E2</td>\n",
       "      <td>Horizontal</td>\n",
       "      <td>Inactive</td>\n",
       "      <td>Monitoring</td>\n",
       "      <td>Oil</td>\n",
       "      <td>POINT (96.30160 5.32452)</td>\n",
       "    </tr>\n",
       "    <tr>\n",
       "      <th>4</th>\n",
       "      <td>Well-N2</td>\n",
       "      <td>Directional</td>\n",
       "      <td>Suspended</td>\n",
       "      <td>Abandonment</td>\n",
       "      <td>Observation</td>\n",
       "      <td>POINT (96.10940 5.43308)</td>\n",
       "    </tr>\n",
       "    <tr>\n",
       "      <th>5</th>\n",
       "      <td>Well-C1</td>\n",
       "      <td>Vertical</td>\n",
       "      <td>Active</td>\n",
       "      <td>Exploration</td>\n",
       "      <td>Oil</td>\n",
       "      <td>POINT (96.21456 5.36823)</td>\n",
       "    </tr>\n",
       "    <tr>\n",
       "      <th>6</th>\n",
       "      <td>Well-S1</td>\n",
       "      <td>Directional</td>\n",
       "      <td>Active</td>\n",
       "      <td>Exploration</td>\n",
       "      <td>Oil</td>\n",
       "      <td>POINT (96.17558 5.30896)</td>\n",
       "    </tr>\n",
       "    <tr>\n",
       "      <th>7</th>\n",
       "      <td>Well-W2</td>\n",
       "      <td>Horizontal</td>\n",
       "      <td>Inactive</td>\n",
       "      <td>Monitoring</td>\n",
       "      <td>Oil</td>\n",
       "      <td>POINT (96.09407 5.38058)</td>\n",
       "    </tr>\n",
       "    <tr>\n",
       "      <th>8</th>\n",
       "      <td>Well-E3</td>\n",
       "      <td>Vertical</td>\n",
       "      <td>Shut-in</td>\n",
       "      <td>Injection</td>\n",
       "      <td>Oil</td>\n",
       "      <td>POINT (96.44064 5.26732)</td>\n",
       "    </tr>\n",
       "  </tbody>\n",
       "</table>\n",
       "</div>"
      ],
      "text/plain": [
       "  Well_Name Well_Orientation Well_Status Well_Purpose    Well_Type  \\\n",
       "0   Well-E1      Directional      Active   Production          Oil   \n",
       "1   Well-N1         Vertical      Avtive   Production          Gas   \n",
       "2   Well-W1      Directional      Active   Production          Oil   \n",
       "3   Well-E2       Horizontal    Inactive   Monitoring          Oil   \n",
       "4   Well-N2      Directional   Suspended  Abandonment  Observation   \n",
       "5   Well-C1         Vertical      Active  Exploration          Oil   \n",
       "6   Well-S1      Directional      Active  Exploration          Oil   \n",
       "7   Well-W2       Horizontal    Inactive   Monitoring          Oil   \n",
       "8   Well-E3         Vertical     Shut-in    Injection          Oil   \n",
       "\n",
       "                   geometry  \n",
       "0  POINT (96.33069 5.27458)  \n",
       "1  POINT (96.19868 5.44510)  \n",
       "2  POINT (96.11406 5.33654)  \n",
       "3  POINT (96.30160 5.32452)  \n",
       "4  POINT (96.10940 5.43308)  \n",
       "5  POINT (96.21456 5.36823)  \n",
       "6  POINT (96.17558 5.30896)  \n",
       "7  POINT (96.09407 5.38058)  \n",
       "8  POINT (96.44064 5.26732)  "
      ]
     },
     "execution_count": 6,
     "metadata": {},
     "output_type": "execute_result"
    }
   ],
   "source": [
    "all_well"
   ]
  },
  {
   "cell_type": "code",
   "execution_count": 6,
   "metadata": {},
   "outputs": [
    {
     "data": {
      "text/html": [
       "<div>\n",
       "<style scoped>\n",
       "    .dataframe tbody tr th:only-of-type {\n",
       "        vertical-align: middle;\n",
       "    }\n",
       "\n",
       "    .dataframe tbody tr th {\n",
       "        vertical-align: top;\n",
       "    }\n",
       "\n",
       "    .dataframe thead th {\n",
       "        text-align: right;\n",
       "    }\n",
       "</style>\n",
       "<table border=\"1\" class=\"dataframe\">\n",
       "  <thead>\n",
       "    <tr style=\"text-align: right;\">\n",
       "      <th></th>\n",
       "      <th>Block_Name</th>\n",
       "      <th>Status</th>\n",
       "      <th>Operator</th>\n",
       "      <th>num_wells</th>\n",
       "      <th>sq_km</th>\n",
       "      <th>est_reserve</th>\n",
       "      <th>geometry</th>\n",
       "    </tr>\n",
       "  </thead>\n",
       "  <tbody>\n",
       "    <tr>\n",
       "      <th>0</th>\n",
       "      <td>East-Block</td>\n",
       "      <td>Production</td>\n",
       "      <td>A</td>\n",
       "      <td>20</td>\n",
       "      <td>145.97</td>\n",
       "      <td>100</td>\n",
       "      <td>POLYGON ((96.40011 5.20866, 96.43375 5.22165, ...</td>\n",
       "    </tr>\n",
       "    <tr>\n",
       "      <th>1</th>\n",
       "      <td>West-Block</td>\n",
       "      <td>Production</td>\n",
       "      <td>B</td>\n",
       "      <td>50</td>\n",
       "      <td>171.38</td>\n",
       "      <td>420</td>\n",
       "      <td>POLYGON ((96.15006 5.27447, 96.14897 5.41917, ...</td>\n",
       "    </tr>\n",
       "    <tr>\n",
       "      <th>2</th>\n",
       "      <td>South-Block</td>\n",
       "      <td>Exploration</td>\n",
       "      <td>A</td>\n",
       "      <td>0</td>\n",
       "      <td>48.74</td>\n",
       "      <td>150</td>\n",
       "      <td>POLYGON ((96.15021 5.32141, 96.15075 5.27437, ...</td>\n",
       "    </tr>\n",
       "    <tr>\n",
       "      <th>3</th>\n",
       "      <td>Center-Block</td>\n",
       "      <td>Exploration</td>\n",
       "      <td>C</td>\n",
       "      <td>0</td>\n",
       "      <td>48.98</td>\n",
       "      <td>120</td>\n",
       "      <td>POLYGON ((96.14996 5.32193, 96.26084 5.32085, ...</td>\n",
       "    </tr>\n",
       "    <tr>\n",
       "      <th>4</th>\n",
       "      <td>North-Block</td>\n",
       "      <td>Production</td>\n",
       "      <td>A</td>\n",
       "      <td>30</td>\n",
       "      <td>64.55</td>\n",
       "      <td>220</td>\n",
       "      <td>POLYGON ((96.08469 5.41977, 96.21141 5.41977, ...</td>\n",
       "    </tr>\n",
       "  </tbody>\n",
       "</table>\n",
       "</div>"
      ],
      "text/plain": [
       "     Block_Name       Status Operator  num_wells   sq_km  est_reserve  \\\n",
       "0    East-Block   Production        A         20  145.97          100   \n",
       "1    West-Block   Production        B         50  171.38          420   \n",
       "2   South-Block  Exploration        A          0   48.74          150   \n",
       "3  Center-Block  Exploration        C          0   48.98          120   \n",
       "4   North-Block   Production        A         30   64.55          220   \n",
       "\n",
       "                                            geometry  \n",
       "0  POLYGON ((96.40011 5.20866, 96.43375 5.22165, ...  \n",
       "1  POLYGON ((96.15006 5.27447, 96.14897 5.41917, ...  \n",
       "2  POLYGON ((96.15021 5.32141, 96.15075 5.27437, ...  \n",
       "3  POLYGON ((96.14996 5.32193, 96.26084 5.32085, ...  \n",
       "4  POLYGON ((96.08469 5.41977, 96.21141 5.41977, ...  "
      ]
     },
     "execution_count": 6,
     "metadata": {},
     "output_type": "execute_result"
    }
   ],
   "source": [
    "all_blocks"
   ]
  },
  {
   "cell_type": "code",
   "execution_count": 16,
   "metadata": {},
   "outputs": [
    {
     "data": {
      "text/html": [
       "<div>\n",
       "<style scoped>\n",
       "    .dataframe tbody tr th:only-of-type {\n",
       "        vertical-align: middle;\n",
       "    }\n",
       "\n",
       "    .dataframe tbody tr th {\n",
       "        vertical-align: top;\n",
       "    }\n",
       "\n",
       "    .dataframe thead th {\n",
       "        text-align: right;\n",
       "    }\n",
       "</style>\n",
       "<table border=\"1\" class=\"dataframe\">\n",
       "  <thead>\n",
       "    <tr style=\"text-align: right;\">\n",
       "      <th></th>\n",
       "      <th>Block_Name</th>\n",
       "      <th>Status</th>\n",
       "      <th>Operator</th>\n",
       "      <th>num_wells</th>\n",
       "      <th>sq_km</th>\n",
       "      <th>est_reserve</th>\n",
       "      <th>geometry</th>\n",
       "    </tr>\n",
       "  </thead>\n",
       "  <tbody>\n",
       "    <tr>\n",
       "      <th>2</th>\n",
       "      <td>South-Block</td>\n",
       "      <td>Exploration</td>\n",
       "      <td>A</td>\n",
       "      <td>0</td>\n",
       "      <td>48.74</td>\n",
       "      <td>150</td>\n",
       "      <td>POLYGON ((96.15021 5.32141, 96.15075 5.27437, ...</td>\n",
       "    </tr>\n",
       "    <tr>\n",
       "      <th>3</th>\n",
       "      <td>Center-Block</td>\n",
       "      <td>Exploration</td>\n",
       "      <td>C</td>\n",
       "      <td>0</td>\n",
       "      <td>48.98</td>\n",
       "      <td>120</td>\n",
       "      <td>POLYGON ((96.14996 5.32193, 96.26084 5.32085, ...</td>\n",
       "    </tr>\n",
       "  </tbody>\n",
       "</table>\n",
       "</div>"
      ],
      "text/plain": [
       "     Block_Name       Status Operator  num_wells  sq_km  est_reserve  \\\n",
       "2   South-Block  Exploration        A          0  48.74          150   \n",
       "3  Center-Block  Exploration        C          0  48.98          120   \n",
       "\n",
       "                                            geometry  \n",
       "2  POLYGON ((96.15021 5.32141, 96.15075 5.27437, ...  \n",
       "3  POLYGON ((96.14996 5.32193, 96.26084 5.32085, ...  "
      ]
     },
     "execution_count": 16,
     "metadata": {},
     "output_type": "execute_result"
    }
   ],
   "source": [
    "all_blocks[(all_blocks['Status'].isin(['Exploration']))]"
   ]
  },
  {
   "cell_type": "code",
   "execution_count": 13,
   "metadata": {},
   "outputs": [],
   "source": [
    "edited_layer= all_blocks[(all_blocks['Block_Name'].isin(['Production'])) & (all_blocks['Status'].isin(['A','B']))]"
   ]
  },
  {
   "cell_type": "code",
   "execution_count": 3,
   "metadata": {},
   "outputs": [
    {
     "ename": "TypeError",
     "evalue": "argument of type 'method' is not iterable",
     "output_type": "error",
     "traceback": [
      "\u001b[1;31m---------------------------------------------------------------------------\u001b[0m",
      "\u001b[1;31mTypeError\u001b[0m                                 Traceback (most recent call last)",
      "Cell \u001b[1;32mIn[3], line 1\u001b[0m\n\u001b[1;32m----> 1\u001b[0m json \u001b[39m=\u001b[39m pd\u001b[39m.\u001b[39;49mread_json(all_blocks)\n",
      "File \u001b[1;32mc:\\Users\\Science-01\\anaconda3\\envs\\Waviv_MapProject\\lib\\site-packages\\pandas\\util\\_decorators.py:211\u001b[0m, in \u001b[0;36mdeprecate_kwarg.<locals>._deprecate_kwarg.<locals>.wrapper\u001b[1;34m(*args, **kwargs)\u001b[0m\n\u001b[0;32m    209\u001b[0m     \u001b[39melse\u001b[39;00m:\n\u001b[0;32m    210\u001b[0m         kwargs[new_arg_name] \u001b[39m=\u001b[39m new_arg_value\n\u001b[1;32m--> 211\u001b[0m \u001b[39mreturn\u001b[39;00m func(\u001b[39m*\u001b[39margs, \u001b[39m*\u001b[39m\u001b[39m*\u001b[39mkwargs)\n",
      "File \u001b[1;32mc:\\Users\\Science-01\\anaconda3\\envs\\Waviv_MapProject\\lib\\site-packages\\pandas\\util\\_decorators.py:331\u001b[0m, in \u001b[0;36mdeprecate_nonkeyword_arguments.<locals>.decorate.<locals>.wrapper\u001b[1;34m(*args, **kwargs)\u001b[0m\n\u001b[0;32m    325\u001b[0m \u001b[39mif\u001b[39;00m \u001b[39mlen\u001b[39m(args) \u001b[39m>\u001b[39m num_allow_args:\n\u001b[0;32m    326\u001b[0m     warnings\u001b[39m.\u001b[39mwarn(\n\u001b[0;32m    327\u001b[0m         msg\u001b[39m.\u001b[39mformat(arguments\u001b[39m=\u001b[39m_format_argument_list(allow_args)),\n\u001b[0;32m    328\u001b[0m         \u001b[39mFutureWarning\u001b[39;00m,\n\u001b[0;32m    329\u001b[0m         stacklevel\u001b[39m=\u001b[39mfind_stack_level(),\n\u001b[0;32m    330\u001b[0m     )\n\u001b[1;32m--> 331\u001b[0m \u001b[39mreturn\u001b[39;00m func(\u001b[39m*\u001b[39margs, \u001b[39m*\u001b[39m\u001b[39m*\u001b[39mkwargs)\n",
      "File \u001b[1;32mc:\\Users\\Science-01\\anaconda3\\envs\\Waviv_MapProject\\lib\\site-packages\\pandas\\io\\json\\_json.py:733\u001b[0m, in \u001b[0;36mread_json\u001b[1;34m(path_or_buf, orient, typ, dtype, convert_axes, convert_dates, keep_default_dates, numpy, precise_float, date_unit, encoding, encoding_errors, lines, chunksize, compression, nrows, storage_options)\u001b[0m\n\u001b[0;32m    730\u001b[0m \u001b[39mif\u001b[39;00m convert_axes \u001b[39mis\u001b[39;00m \u001b[39mNone\u001b[39;00m \u001b[39mand\u001b[39;00m orient \u001b[39m!=\u001b[39m \u001b[39m\"\u001b[39m\u001b[39mtable\u001b[39m\u001b[39m\"\u001b[39m:\n\u001b[0;32m    731\u001b[0m     convert_axes \u001b[39m=\u001b[39m \u001b[39mTrue\u001b[39;00m\n\u001b[1;32m--> 733\u001b[0m json_reader \u001b[39m=\u001b[39m JsonReader(\n\u001b[0;32m    734\u001b[0m     path_or_buf,\n\u001b[0;32m    735\u001b[0m     orient\u001b[39m=\u001b[39;49morient,\n\u001b[0;32m    736\u001b[0m     typ\u001b[39m=\u001b[39;49mtyp,\n\u001b[0;32m    737\u001b[0m     dtype\u001b[39m=\u001b[39;49mdtype,\n\u001b[0;32m    738\u001b[0m     convert_axes\u001b[39m=\u001b[39;49mconvert_axes,\n\u001b[0;32m    739\u001b[0m     convert_dates\u001b[39m=\u001b[39;49mconvert_dates,\n\u001b[0;32m    740\u001b[0m     keep_default_dates\u001b[39m=\u001b[39;49mkeep_default_dates,\n\u001b[0;32m    741\u001b[0m     numpy\u001b[39m=\u001b[39;49mnumpy,\n\u001b[0;32m    742\u001b[0m     precise_float\u001b[39m=\u001b[39;49mprecise_float,\n\u001b[0;32m    743\u001b[0m     date_unit\u001b[39m=\u001b[39;49mdate_unit,\n\u001b[0;32m    744\u001b[0m     encoding\u001b[39m=\u001b[39;49mencoding,\n\u001b[0;32m    745\u001b[0m     lines\u001b[39m=\u001b[39;49mlines,\n\u001b[0;32m    746\u001b[0m     chunksize\u001b[39m=\u001b[39;49mchunksize,\n\u001b[0;32m    747\u001b[0m     compression\u001b[39m=\u001b[39;49mcompression,\n\u001b[0;32m    748\u001b[0m     nrows\u001b[39m=\u001b[39;49mnrows,\n\u001b[0;32m    749\u001b[0m     storage_options\u001b[39m=\u001b[39;49mstorage_options,\n\u001b[0;32m    750\u001b[0m     encoding_errors\u001b[39m=\u001b[39;49mencoding_errors,\n\u001b[0;32m    751\u001b[0m )\n\u001b[0;32m    753\u001b[0m \u001b[39mif\u001b[39;00m chunksize:\n\u001b[0;32m    754\u001b[0m     \u001b[39mreturn\u001b[39;00m json_reader\n",
      "File \u001b[1;32mc:\\Users\\Science-01\\anaconda3\\envs\\Waviv_MapProject\\lib\\site-packages\\pandas\\io\\json\\_json.py:818\u001b[0m, in \u001b[0;36mJsonReader.__init__\u001b[1;34m(self, filepath_or_buffer, orient, typ, dtype, convert_axes, convert_dates, keep_default_dates, numpy, precise_float, date_unit, encoding, lines, chunksize, compression, nrows, storage_options, encoding_errors)\u001b[0m\n\u001b[0;32m    815\u001b[0m     \u001b[39mif\u001b[39;00m \u001b[39mnot\u001b[39;00m \u001b[39mself\u001b[39m\u001b[39m.\u001b[39mlines:\n\u001b[0;32m    816\u001b[0m         \u001b[39mraise\u001b[39;00m \u001b[39mValueError\u001b[39;00m(\u001b[39m\"\u001b[39m\u001b[39mnrows can only be passed if lines=True\u001b[39m\u001b[39m\"\u001b[39m)\n\u001b[1;32m--> 818\u001b[0m data \u001b[39m=\u001b[39m \u001b[39mself\u001b[39;49m\u001b[39m.\u001b[39;49m_get_data_from_filepath(filepath_or_buffer)\n\u001b[0;32m    819\u001b[0m \u001b[39mself\u001b[39m\u001b[39m.\u001b[39mdata \u001b[39m=\u001b[39m \u001b[39mself\u001b[39m\u001b[39m.\u001b[39m_preprocess_data(data)\n",
      "File \u001b[1;32mc:\\Users\\Science-01\\anaconda3\\envs\\Waviv_MapProject\\lib\\site-packages\\pandas\\io\\json\\_json.py:858\u001b[0m, in \u001b[0;36mJsonReader._get_data_from_filepath\u001b[1;34m(self, filepath_or_buffer)\u001b[0m\n\u001b[0;32m    851\u001b[0m filepath_or_buffer \u001b[39m=\u001b[39m stringify_path(filepath_or_buffer)\n\u001b[0;32m    852\u001b[0m \u001b[39mif\u001b[39;00m (\n\u001b[0;32m    853\u001b[0m     \u001b[39mnot\u001b[39;00m \u001b[39misinstance\u001b[39m(filepath_or_buffer, \u001b[39mstr\u001b[39m)\n\u001b[0;32m    854\u001b[0m     \u001b[39mor\u001b[39;00m is_url(filepath_or_buffer)\n\u001b[0;32m    855\u001b[0m     \u001b[39mor\u001b[39;00m is_fsspec_url(filepath_or_buffer)\n\u001b[0;32m    856\u001b[0m     \u001b[39mor\u001b[39;00m file_exists(filepath_or_buffer)\n\u001b[0;32m    857\u001b[0m ):\n\u001b[1;32m--> 858\u001b[0m     \u001b[39mself\u001b[39m\u001b[39m.\u001b[39mhandles \u001b[39m=\u001b[39m get_handle(\n\u001b[0;32m    859\u001b[0m         filepath_or_buffer,\n\u001b[0;32m    860\u001b[0m         \u001b[39m\"\u001b[39;49m\u001b[39mr\u001b[39;49m\u001b[39m\"\u001b[39;49m,\n\u001b[0;32m    861\u001b[0m         encoding\u001b[39m=\u001b[39;49m\u001b[39mself\u001b[39;49m\u001b[39m.\u001b[39;49mencoding,\n\u001b[0;32m    862\u001b[0m         compression\u001b[39m=\u001b[39;49m\u001b[39mself\u001b[39;49m\u001b[39m.\u001b[39;49mcompression,\n\u001b[0;32m    863\u001b[0m         storage_options\u001b[39m=\u001b[39;49m\u001b[39mself\u001b[39;49m\u001b[39m.\u001b[39;49mstorage_options,\n\u001b[0;32m    864\u001b[0m         errors\u001b[39m=\u001b[39;49m\u001b[39mself\u001b[39;49m\u001b[39m.\u001b[39;49mencoding_errors,\n\u001b[0;32m    865\u001b[0m     )\n\u001b[0;32m    866\u001b[0m     filepath_or_buffer \u001b[39m=\u001b[39m \u001b[39mself\u001b[39m\u001b[39m.\u001b[39mhandles\u001b[39m.\u001b[39mhandle\n\u001b[0;32m    867\u001b[0m \u001b[39melif\u001b[39;00m (\n\u001b[0;32m    868\u001b[0m     \u001b[39misinstance\u001b[39m(filepath_or_buffer, \u001b[39mstr\u001b[39m)\n\u001b[0;32m    869\u001b[0m     \u001b[39mand\u001b[39;00m filepath_or_buffer\u001b[39m.\u001b[39mlower()\u001b[39m.\u001b[39mendswith(\n\u001b[1;32m   (...)\u001b[0m\n\u001b[0;32m    872\u001b[0m     \u001b[39mand\u001b[39;00m \u001b[39mnot\u001b[39;00m file_exists(filepath_or_buffer)\n\u001b[0;32m    873\u001b[0m ):\n",
      "File \u001b[1;32mc:\\Users\\Science-01\\anaconda3\\envs\\Waviv_MapProject\\lib\\site-packages\\pandas\\io\\common.py:704\u001b[0m, in \u001b[0;36mget_handle\u001b[1;34m(path_or_buf, mode, encoding, compression, memory_map, is_text, errors, storage_options)\u001b[0m\n\u001b[0;32m    701\u001b[0m errors \u001b[39m=\u001b[39m errors \u001b[39mor\u001b[39;00m \u001b[39m\"\u001b[39m\u001b[39mstrict\u001b[39m\u001b[39m\"\u001b[39m\n\u001b[0;32m    703\u001b[0m \u001b[39m# read_csv does not know whether the buffer is opened in binary/text mode\u001b[39;00m\n\u001b[1;32m--> 704\u001b[0m \u001b[39mif\u001b[39;00m _is_binary_mode(path_or_buf, mode) \u001b[39mand\u001b[39;00m \u001b[39m\"\u001b[39m\u001b[39mb\u001b[39m\u001b[39m\"\u001b[39m \u001b[39mnot\u001b[39;00m \u001b[39min\u001b[39;00m mode:\n\u001b[0;32m    705\u001b[0m     mode \u001b[39m+\u001b[39m\u001b[39m=\u001b[39m \u001b[39m\"\u001b[39m\u001b[39mb\u001b[39m\u001b[39m\"\u001b[39m\n\u001b[0;32m    707\u001b[0m \u001b[39m# validate encoding and errors\u001b[39;00m\n",
      "File \u001b[1;32mc:\\Users\\Science-01\\anaconda3\\envs\\Waviv_MapProject\\lib\\site-packages\\pandas\\io\\common.py:1163\u001b[0m, in \u001b[0;36m_is_binary_mode\u001b[1;34m(handle, mode)\u001b[0m\n\u001b[0;32m   1160\u001b[0m \u001b[39mif\u001b[39;00m \u001b[39missubclass\u001b[39m(\u001b[39mtype\u001b[39m(handle), text_classes):\n\u001b[0;32m   1161\u001b[0m     \u001b[39mreturn\u001b[39;00m \u001b[39mFalse\u001b[39;00m\n\u001b[1;32m-> 1163\u001b[0m \u001b[39mreturn\u001b[39;00m \u001b[39misinstance\u001b[39m(handle, _get_binary_io_classes()) \u001b[39mor\u001b[39;00m \u001b[39m\"\u001b[39;49m\u001b[39mb\u001b[39;49m\u001b[39m\"\u001b[39;49m \u001b[39min\u001b[39;49;00m \u001b[39mgetattr\u001b[39;49m(\n\u001b[0;32m   1164\u001b[0m     handle, \u001b[39m\"\u001b[39;49m\u001b[39mmode\u001b[39;49m\u001b[39m\"\u001b[39;49m, mode\n\u001b[0;32m   1165\u001b[0m )\n",
      "\u001b[1;31mTypeError\u001b[0m: argument of type 'method' is not iterable"
     ]
    }
   ],
   "source": [
    "all_blocks[\"\"] = json[\"features\"].apply(lambda row: row[\"geometry\"][\"coordinates\"])"
   ]
  },
  {
   "cell_type": "code",
   "execution_count": 47,
   "metadata": {},
   "outputs": [
    {
     "data": {
      "text/plain": [
       "{'type': 'FeatureCollection',\n",
       " 'features': [{'id': '0',\n",
       "   'type': 'Feature',\n",
       "   'properties': {'Block_Name': 'East-Block',\n",
       "    'Status': 'Production',\n",
       "    'Operator': 'A',\n",
       "    'num_wells': 20,\n",
       "    'sq_km': 145.97,\n",
       "    'est_reserve': 100},\n",
       "   'geometry': {'type': 'Polygon',\n",
       "    'coordinates': [[[96.4001057373053, 5.208656351062942],\n",
       "      [96.43375136718726, 5.221648609300516],\n",
       "      [96.46259047851515, 5.23737571951817],\n",
       "      [96.46121718750072, 5.279084831409563],\n",
       "      [96.35684707031174, 5.279768564031215],\n",
       "      [96.35753371582075, 5.340617736210092],\n",
       "      [96.26140334472717, 5.341985064196123],\n",
       "      [96.26140334472717, 5.261307518914151],\n",
       "      [96.32663466796942, 5.23053789406255],\n",
       "      [96.4001057373053, 5.208656351062942]]]}},\n",
       "  {'id': '2',\n",
       "   'type': 'Feature',\n",
       "   'properties': {'Block_Name': 'South-Block',\n",
       "    'Status': 'Exploration',\n",
       "    'Operator': 'A',\n",
       "    'num_wells': 0,\n",
       "    'sq_km': 48.74,\n",
       "    'est_reserve': 150},\n",
       "   'geometry': {'type': 'Polygon',\n",
       "    'coordinates': [[[96.15020619743746, 5.321413143458614],\n",
       "      [96.15075239154925, 5.274369183512903],\n",
       "      [96.15921840028875, 5.269746173698309],\n",
       "      [96.19062456174476, 5.259684209917438],\n",
       "      [96.21137993801023, 5.259140315346897],\n",
       "      [96.23814344951205, 5.262403675642247],\n",
       "      [96.26108360222605, 5.263763404046799],\n",
       "      [96.26108360222605, 5.320325462349771],\n",
       "      [96.15020619743746, 5.321413143458614]]]}}]}"
      ]
     },
     "execution_count": 47,
     "metadata": {},
     "output_type": "execute_result"
    }
   ],
   "source": [
    "json.loads(all_blocks[all_blocks['Block_Name'].isin(['East-Block','South-Block'])].to_json())"
   ]
  },
  {
   "cell_type": "code",
   "execution_count": 2,
   "metadata": {},
   "outputs": [
    {
     "data": {
      "text/html": [
       "<div>\n",
       "<style scoped>\n",
       "    .dataframe tbody tr th:only-of-type {\n",
       "        vertical-align: middle;\n",
       "    }\n",
       "\n",
       "    .dataframe tbody tr th {\n",
       "        vertical-align: top;\n",
       "    }\n",
       "\n",
       "    .dataframe thead th {\n",
       "        text-align: right;\n",
       "    }\n",
       "</style>\n",
       "<table border=\"1\" class=\"dataframe\">\n",
       "  <thead>\n",
       "    <tr style=\"text-align: right;\">\n",
       "      <th></th>\n",
       "      <th>Block_Name</th>\n",
       "      <th>Status</th>\n",
       "      <th>Operator</th>\n",
       "      <th>num_wells</th>\n",
       "      <th>sq_km</th>\n",
       "      <th>est_reserve</th>\n",
       "      <th>geometry</th>\n",
       "    </tr>\n",
       "  </thead>\n",
       "  <tbody>\n",
       "    <tr>\n",
       "      <th>0</th>\n",
       "      <td>East-Block</td>\n",
       "      <td>Production</td>\n",
       "      <td>A</td>\n",
       "      <td>20</td>\n",
       "      <td>145.97</td>\n",
       "      <td>100</td>\n",
       "      <td>POLYGON ((96.40011 5.20866, 96.43375 5.22165, ...</td>\n",
       "    </tr>\n",
       "    <tr>\n",
       "      <th>1</th>\n",
       "      <td>West-Block</td>\n",
       "      <td>Production</td>\n",
       "      <td>B</td>\n",
       "      <td>50</td>\n",
       "      <td>171.38</td>\n",
       "      <td>420</td>\n",
       "      <td>POLYGON ((96.15006 5.27447, 96.14897 5.41917, ...</td>\n",
       "    </tr>\n",
       "    <tr>\n",
       "      <th>2</th>\n",
       "      <td>South-Block</td>\n",
       "      <td>Exploration</td>\n",
       "      <td>A</td>\n",
       "      <td>0</td>\n",
       "      <td>48.74</td>\n",
       "      <td>150</td>\n",
       "      <td>POLYGON ((96.15021 5.32141, 96.15075 5.27437, ...</td>\n",
       "    </tr>\n",
       "    <tr>\n",
       "      <th>3</th>\n",
       "      <td>Center-Block</td>\n",
       "      <td>Exploration</td>\n",
       "      <td>C</td>\n",
       "      <td>0</td>\n",
       "      <td>48.98</td>\n",
       "      <td>120</td>\n",
       "      <td>POLYGON ((96.14996 5.32193, 96.26084 5.32085, ...</td>\n",
       "    </tr>\n",
       "    <tr>\n",
       "      <th>4</th>\n",
       "      <td>North-Block</td>\n",
       "      <td>Production</td>\n",
       "      <td>A</td>\n",
       "      <td>30</td>\n",
       "      <td>64.55</td>\n",
       "      <td>220</td>\n",
       "      <td>POLYGON ((96.08469 5.41977, 96.21141 5.41977, ...</td>\n",
       "    </tr>\n",
       "  </tbody>\n",
       "</table>\n",
       "</div>"
      ],
      "text/plain": [
       "     Block_Name       Status Operator  num_wells   sq_km  est_reserve  \\\n",
       "0    East-Block   Production        A         20  145.97          100   \n",
       "1    West-Block   Production        B         50  171.38          420   \n",
       "2   South-Block  Exploration        A          0   48.74          150   \n",
       "3  Center-Block  Exploration        C          0   48.98          120   \n",
       "4   North-Block   Production        A         30   64.55          220   \n",
       "\n",
       "                                            geometry  \n",
       "0  POLYGON ((96.40011 5.20866, 96.43375 5.22165, ...  \n",
       "1  POLYGON ((96.15006 5.27447, 96.14897 5.41917, ...  \n",
       "2  POLYGON ((96.15021 5.32141, 96.15075 5.27437, ...  \n",
       "3  POLYGON ((96.14996 5.32193, 96.26084 5.32085, ...  \n",
       "4  POLYGON ((96.08469 5.41977, 96.21141 5.41977, ...  "
      ]
     },
     "execution_count": 2,
     "metadata": {},
     "output_type": "execute_result"
    }
   ],
   "source": [
    "all_blocks"
   ]
  },
  {
   "cell_type": "code",
   "execution_count": 22,
   "metadata": {},
   "outputs": [
    {
     "data": {
      "text/plain": [
       "[50, 0]"
      ]
     },
     "execution_count": 22,
     "metadata": {},
     "output_type": "execute_result"
    }
   ],
   "source": [
    "df_test= all_blocks[(all_blocks['num_wells'].between(all_blocks['num_wells'].min(), all_blocks['num_wells'].max())) & (all_blocks['est_reserve'].between(all_blocks['est_reserve'].min(), all_blocks['est_reserve'].max())) & (all_blocks['Status'].isin(all_blocks['Status']))]\n",
    "df_num=[df_test['num_wells'].max(), df_test['num_wells'].min()]\n",
    "df_num"
   ]
  },
  {
   "cell_type": "code",
   "execution_count": 29,
   "metadata": {},
   "outputs": [
    {
     "data": {
      "text/plain": [
       "array(['Production', 'Exploration'], dtype=object)"
      ]
     },
     "execution_count": 29,
     "metadata": {},
     "output_type": "execute_result"
    }
   ],
   "source": [
    "pd.unique(df_test['Status'])"
   ]
  },
  {
   "cell_type": "code",
   "execution_count": 38,
   "metadata": {},
   "outputs": [],
   "source": [
    "all_blocks['tooltip'] = 'Block Name: ' + all_blocks.Block_Name + '<BR> Status: ' + all_blocks.Status + '<BR> Operator: ' + all_blocks.Operator + '<BR> Number of Wells: ' + all_blocks.num_wells.astype(str) + '<BR> Area in Sq. Kilometers ' + all_blocks.sq_km.astype(str) + '<BR> Estimated Reserves in Million of Barrels: '+ all_blocks.est_reserve.astype(str)"
   ]
  },
  {
   "cell_type": "code",
   "execution_count": 40,
   "metadata": {},
   "outputs": [
    {
     "data": {
      "text/html": [
       "\n",
       "        <iframe\n",
       "            width=\"100%\"\n",
       "            height=\"650\"\n",
       "            src=\"http://127.0.0.1:7701/\"\n",
       "            frameborder=\"0\"\n",
       "            allowfullscreen\n",
       "            \n",
       "        ></iframe>\n",
       "        "
      ],
      "text/plain": [
       "<IPython.lib.display.IFrame at 0x20b52212b60>"
      ]
     },
     "metadata": {},
     "output_type": "display_data"
    }
   ],
   "source": [
    "layer_block = dl.GeoJSON(id='block',\n",
    "                        data=json.loads(all_blocks.to_json()),\n",
    "                        hoverStyle=arrow_function(dict(weight=6, fillColor='blue')),\n",
    "                        options=dict(style=dict(color='black', \n",
    "                                    weight=1, \n",
    "                                    dashArray='20, 10',\n",
    "                                    dashOffset='5',\n",
    "                                    opacity=0.7,\n",
    "                                    )))\n",
    "\n",
    "app = JupyterDash()\n",
    "app.layout = dl.Map([layer_block, dl.TileLayer()],\n",
    "                    center=[5.3, 96.3],\n",
    "                    zoom=10,\n",
    "                    style={\n",
    "                        'width': '1000px',\n",
    "                        'height': '500px'\n",
    "                    })\n",
    "\n",
    "app.run_server(mode='inline', port=random.choice(range(2000, 10000)))"
   ]
  },
  {
   "cell_type": "code",
   "execution_count": null,
   "metadata": {},
   "outputs": [],
   "source": []
  },
  {
   "cell_type": "code",
   "execution_count": 55,
   "metadata": {},
   "outputs": [
    {
     "data": {
      "text/plain": [
       "0    A\n",
       "1    B\n",
       "2    A\n",
       "3    C\n",
       "4    A\n",
       "Name: Operator, dtype: object"
      ]
     },
     "execution_count": 55,
     "metadata": {},
     "output_type": "execute_result"
    }
   ],
   "source": [
    "all_blocks['Operator']"
   ]
  },
  {
   "cell_type": "code",
   "execution_count": 56,
   "metadata": {},
   "outputs": [
    {
     "data": {
      "text/plain": [
       "array(['A', 'B', 'C'], dtype=object)"
      ]
     },
     "execution_count": 56,
     "metadata": {},
     "output_type": "execute_result"
    }
   ],
   "source": [
    "pd.unique(all_blocks['Operator'].to_list())"
   ]
  },
  {
   "cell_type": "code",
   "execution_count": 3,
   "metadata": {},
   "outputs": [
    {
     "data": {
      "text/html": [
       "<div>\n",
       "<style scoped>\n",
       "    .dataframe tbody tr th:only-of-type {\n",
       "        vertical-align: middle;\n",
       "    }\n",
       "\n",
       "    .dataframe tbody tr th {\n",
       "        vertical-align: top;\n",
       "    }\n",
       "\n",
       "    .dataframe thead th {\n",
       "        text-align: right;\n",
       "    }\n",
       "</style>\n",
       "<table border=\"1\" class=\"dataframe\">\n",
       "  <thead>\n",
       "    <tr style=\"text-align: right;\">\n",
       "      <th></th>\n",
       "      <th>Block_Name</th>\n",
       "      <th>Status</th>\n",
       "      <th>Operator</th>\n",
       "      <th>num_wells</th>\n",
       "      <th>sq_km</th>\n",
       "      <th>est_reserve</th>\n",
       "      <th>geometry</th>\n",
       "    </tr>\n",
       "  </thead>\n",
       "  <tbody>\n",
       "    <tr>\n",
       "      <th>0</th>\n",
       "      <td>East-Block</td>\n",
       "      <td>Production</td>\n",
       "      <td>A</td>\n",
       "      <td>20</td>\n",
       "      <td>145.97</td>\n",
       "      <td>100</td>\n",
       "      <td>POLYGON ((96.40011 5.20866, 96.43375 5.22165, ...</td>\n",
       "    </tr>\n",
       "    <tr>\n",
       "      <th>1</th>\n",
       "      <td>West-Block</td>\n",
       "      <td>Production</td>\n",
       "      <td>B</td>\n",
       "      <td>50</td>\n",
       "      <td>171.38</td>\n",
       "      <td>420</td>\n",
       "      <td>POLYGON ((96.15006 5.27447, 96.14897 5.41917, ...</td>\n",
       "    </tr>\n",
       "    <tr>\n",
       "      <th>2</th>\n",
       "      <td>South-Block</td>\n",
       "      <td>Exploration</td>\n",
       "      <td>A</td>\n",
       "      <td>0</td>\n",
       "      <td>48.74</td>\n",
       "      <td>150</td>\n",
       "      <td>POLYGON ((96.15021 5.32141, 96.15075 5.27437, ...</td>\n",
       "    </tr>\n",
       "    <tr>\n",
       "      <th>3</th>\n",
       "      <td>Center-Block</td>\n",
       "      <td>Exploration</td>\n",
       "      <td>C</td>\n",
       "      <td>0</td>\n",
       "      <td>48.98</td>\n",
       "      <td>120</td>\n",
       "      <td>POLYGON ((96.14996 5.32193, 96.26084 5.32085, ...</td>\n",
       "    </tr>\n",
       "    <tr>\n",
       "      <th>4</th>\n",
       "      <td>North-Block</td>\n",
       "      <td>Production</td>\n",
       "      <td>A</td>\n",
       "      <td>30</td>\n",
       "      <td>64.55</td>\n",
       "      <td>220</td>\n",
       "      <td>POLYGON ((96.08469 5.41977, 96.21141 5.41977, ...</td>\n",
       "    </tr>\n",
       "  </tbody>\n",
       "</table>\n",
       "</div>"
      ],
      "text/plain": [
       "     Block_Name       Status Operator  num_wells   sq_km  est_reserve  \\\n",
       "0    East-Block   Production        A         20  145.97          100   \n",
       "1    West-Block   Production        B         50  171.38          420   \n",
       "2   South-Block  Exploration        A          0   48.74          150   \n",
       "3  Center-Block  Exploration        C          0   48.98          120   \n",
       "4   North-Block   Production        A         30   64.55          220   \n",
       "\n",
       "                                            geometry  \n",
       "0  POLYGON ((96.40011 5.20866, 96.43375 5.22165, ...  \n",
       "1  POLYGON ((96.15006 5.27447, 96.14897 5.41917, ...  \n",
       "2  POLYGON ((96.15021 5.32141, 96.15075 5.27437, ...  \n",
       "3  POLYGON ((96.14996 5.32193, 96.26084 5.32085, ...  \n",
       "4  POLYGON ((96.08469 5.41977, 96.21141 5.41977, ...  "
      ]
     },
     "execution_count": 3,
     "metadata": {},
     "output_type": "execute_result"
    }
   ],
   "source": [
    "all_blocks"
   ]
  },
  {
   "cell_type": "code",
   "execution_count": 38,
   "metadata": {},
   "outputs": [
    {
     "data": {
      "text/plain": [
       "50"
      ]
     },
     "execution_count": 38,
     "metadata": {},
     "output_type": "execute_result"
    }
   ],
   "source": [
    "all_blocks['num_wells'].max()"
   ]
  },
  {
   "cell_type": "code",
   "execution_count": 39,
   "metadata": {},
   "outputs": [
    {
     "name": "stdout",
     "output_type": "stream",
     "text": [
      "yes\n"
     ]
    }
   ],
   "source": [
    "if all_blocks['num_wells'].max() is not None and all_blocks['num_wells'].min() is not None:\n",
    "    print('yes')\n",
    "else:\n",
    "    print('no')"
   ]
  },
  {
   "cell_type": "code",
   "execution_count": 19,
   "metadata": {},
   "outputs": [
    {
     "data": {
      "text/html": [
       "<div>\n",
       "<style scoped>\n",
       "    .dataframe tbody tr th:only-of-type {\n",
       "        vertical-align: middle;\n",
       "    }\n",
       "\n",
       "    .dataframe tbody tr th {\n",
       "        vertical-align: top;\n",
       "    }\n",
       "\n",
       "    .dataframe thead th {\n",
       "        text-align: right;\n",
       "    }\n",
       "</style>\n",
       "<table border=\"1\" class=\"dataframe\">\n",
       "  <thead>\n",
       "    <tr style=\"text-align: right;\">\n",
       "      <th></th>\n",
       "      <th>Block_Name</th>\n",
       "      <th>Status</th>\n",
       "      <th>Operator</th>\n",
       "      <th>num_wells</th>\n",
       "      <th>sq_km</th>\n",
       "      <th>est_reserve</th>\n",
       "      <th>geometry</th>\n",
       "    </tr>\n",
       "  </thead>\n",
       "  <tbody>\n",
       "    <tr>\n",
       "      <th>2</th>\n",
       "      <td>South-Block</td>\n",
       "      <td>Exploration</td>\n",
       "      <td>A</td>\n",
       "      <td>0</td>\n",
       "      <td>48.74</td>\n",
       "      <td>150</td>\n",
       "      <td>POLYGON ((96.15021 5.32141, 96.15075 5.27437, ...</td>\n",
       "    </tr>\n",
       "    <tr>\n",
       "      <th>3</th>\n",
       "      <td>Center-Block</td>\n",
       "      <td>Exploration</td>\n",
       "      <td>C</td>\n",
       "      <td>0</td>\n",
       "      <td>48.98</td>\n",
       "      <td>120</td>\n",
       "      <td>POLYGON ((96.14996 5.32193, 96.26084 5.32085, ...</td>\n",
       "    </tr>\n",
       "  </tbody>\n",
       "</table>\n",
       "</div>"
      ],
      "text/plain": [
       "     Block_Name       Status Operator  num_wells  sq_km  est_reserve  \\\n",
       "2   South-Block  Exploration        A          0  48.74          150   \n",
       "3  Center-Block  Exploration        C          0  48.98          120   \n",
       "\n",
       "                                            geometry  \n",
       "2  POLYGON ((96.15021 5.32141, 96.15075 5.27437, ...  \n",
       "3  POLYGON ((96.14996 5.32193, 96.26084 5.32085, ...  "
      ]
     },
     "execution_count": 19,
     "metadata": {},
     "output_type": "execute_result"
    }
   ],
   "source": [
    "all_blocks[(all_blocks['num_wells'].between(0,50)) & (all_blocks['sq_km'].between(48.74,171.38)) & (all_blocks['est_reserve'].between(100,420)) & (all_blocks['Status'].isin(['Exploration']))]"
   ]
  },
  {
   "cell_type": "code",
   "execution_count": 11,
   "metadata": {},
   "outputs": [
    {
     "data": {
      "text/html": [
       "<div>\n",
       "<style scoped>\n",
       "    .dataframe tbody tr th:only-of-type {\n",
       "        vertical-align: middle;\n",
       "    }\n",
       "\n",
       "    .dataframe tbody tr th {\n",
       "        vertical-align: top;\n",
       "    }\n",
       "\n",
       "    .dataframe thead th {\n",
       "        text-align: right;\n",
       "    }\n",
       "</style>\n",
       "<table border=\"1\" class=\"dataframe\">\n",
       "  <thead>\n",
       "    <tr style=\"text-align: right;\">\n",
       "      <th></th>\n",
       "      <th>Block_Name</th>\n",
       "      <th>Status</th>\n",
       "      <th>Operator</th>\n",
       "      <th>num_wells</th>\n",
       "      <th>sq_km</th>\n",
       "      <th>est_reserve</th>\n",
       "      <th>geometry</th>\n",
       "    </tr>\n",
       "  </thead>\n",
       "  <tbody>\n",
       "    <tr>\n",
       "      <th>0</th>\n",
       "      <td>East-Block</td>\n",
       "      <td>Production</td>\n",
       "      <td>A</td>\n",
       "      <td>20</td>\n",
       "      <td>145.97</td>\n",
       "      <td>100</td>\n",
       "      <td>POLYGON ((96.40011 5.20866, 96.43375 5.22165, ...</td>\n",
       "    </tr>\n",
       "    <tr>\n",
       "      <th>1</th>\n",
       "      <td>West-Block</td>\n",
       "      <td>Production</td>\n",
       "      <td>B</td>\n",
       "      <td>50</td>\n",
       "      <td>171.38</td>\n",
       "      <td>420</td>\n",
       "      <td>POLYGON ((96.15006 5.27447, 96.14897 5.41917, ...</td>\n",
       "    </tr>\n",
       "    <tr>\n",
       "      <th>2</th>\n",
       "      <td>South-Block</td>\n",
       "      <td>Exploration</td>\n",
       "      <td>A</td>\n",
       "      <td>0</td>\n",
       "      <td>48.74</td>\n",
       "      <td>150</td>\n",
       "      <td>POLYGON ((96.15021 5.32141, 96.15075 5.27437, ...</td>\n",
       "    </tr>\n",
       "    <tr>\n",
       "      <th>3</th>\n",
       "      <td>Center-Block</td>\n",
       "      <td>Exploration</td>\n",
       "      <td>C</td>\n",
       "      <td>0</td>\n",
       "      <td>48.98</td>\n",
       "      <td>120</td>\n",
       "      <td>POLYGON ((96.14996 5.32193, 96.26084 5.32085, ...</td>\n",
       "    </tr>\n",
       "    <tr>\n",
       "      <th>4</th>\n",
       "      <td>North-Block</td>\n",
       "      <td>Production</td>\n",
       "      <td>A</td>\n",
       "      <td>30</td>\n",
       "      <td>64.55</td>\n",
       "      <td>220</td>\n",
       "      <td>POLYGON ((96.08469 5.41977, 96.21141 5.41977, ...</td>\n",
       "    </tr>\n",
       "  </tbody>\n",
       "</table>\n",
       "</div>"
      ],
      "text/plain": [
       "     Block_Name       Status Operator  num_wells   sq_km  est_reserve  \\\n",
       "0    East-Block   Production        A         20  145.97          100   \n",
       "1    West-Block   Production        B         50  171.38          420   \n",
       "2   South-Block  Exploration        A          0   48.74          150   \n",
       "3  Center-Block  Exploration        C          0   48.98          120   \n",
       "4   North-Block   Production        A         30   64.55          220   \n",
       "\n",
       "                                            geometry  \n",
       "0  POLYGON ((96.40011 5.20866, 96.43375 5.22165, ...  \n",
       "1  POLYGON ((96.15006 5.27447, 96.14897 5.41917, ...  \n",
       "2  POLYGON ((96.15021 5.32141, 96.15075 5.27437, ...  \n",
       "3  POLYGON ((96.14996 5.32193, 96.26084 5.32085, ...  \n",
       "4  POLYGON ((96.08469 5.41977, 96.21141 5.41977, ...  "
      ]
     },
     "execution_count": 11,
     "metadata": {},
     "output_type": "execute_result"
    }
   ],
   "source": [
    "all_blocks[all_blocks['num_wells'].between(0,50)]"
   ]
  }
 ],
 "metadata": {
  "kernelspec": {
   "display_name": "Waviv_MapProject",
   "language": "python",
   "name": "python3"
  },
  "language_info": {
   "codemirror_mode": {
    "name": "ipython",
    "version": 3
   },
   "file_extension": ".py",
   "mimetype": "text/x-python",
   "name": "python",
   "nbconvert_exporter": "python",
   "pygments_lexer": "ipython3",
   "version": "3.10.9"
  },
  "orig_nbformat": 4
 },
 "nbformat": 4,
 "nbformat_minor": 2
}
