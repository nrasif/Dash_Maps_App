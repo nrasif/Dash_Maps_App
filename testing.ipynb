{
 "cells": [
  {
   "cell_type": "code",
   "execution_count": 37,
   "metadata": {},
   "outputs": [],
   "source": [
    "import pandas as pd\n",
    "import numpy as np\n",
    "import geopandas as gpd\n",
    "from jupyter_dash import JupyterDash\n",
    "import dash\n",
    "import dash_leaflet as dl\n",
    "\n",
    "import json\n",
    "from dash_extensions.javascript import arrow_function\n",
    "import random\n",
    "\n",
    "all_blocks = gpd.read_file('GeoJSON Files/blocks.geojson')"
   ]
  },
  {
   "cell_type": "code",
   "execution_count": 29,
   "metadata": {},
   "outputs": [
    {
     "data": {
      "text/html": [
       "<div>\n",
       "<style scoped>\n",
       "    .dataframe tbody tr th:only-of-type {\n",
       "        vertical-align: middle;\n",
       "    }\n",
       "\n",
       "    .dataframe tbody tr th {\n",
       "        vertical-align: top;\n",
       "    }\n",
       "\n",
       "    .dataframe thead th {\n",
       "        text-align: right;\n",
       "    }\n",
       "</style>\n",
       "<table border=\"1\" class=\"dataframe\">\n",
       "  <thead>\n",
       "    <tr style=\"text-align: right;\">\n",
       "      <th></th>\n",
       "      <th>Block_Name</th>\n",
       "      <th>Status</th>\n",
       "      <th>Operator</th>\n",
       "      <th>num_wells</th>\n",
       "      <th>sq_km</th>\n",
       "      <th>est_reserve</th>\n",
       "      <th>geometry</th>\n",
       "    </tr>\n",
       "  </thead>\n",
       "  <tbody>\n",
       "    <tr>\n",
       "      <th>0</th>\n",
       "      <td>East-Block</td>\n",
       "      <td>Production</td>\n",
       "      <td>A</td>\n",
       "      <td>20</td>\n",
       "      <td>145.97</td>\n",
       "      <td>100</td>\n",
       "      <td>POLYGON ((96.40011 5.20866, 96.43375 5.22165, ...</td>\n",
       "    </tr>\n",
       "    <tr>\n",
       "      <th>1</th>\n",
       "      <td>West-Block</td>\n",
       "      <td>Production</td>\n",
       "      <td>B</td>\n",
       "      <td>50</td>\n",
       "      <td>171.38</td>\n",
       "      <td>420</td>\n",
       "      <td>POLYGON ((96.15006 5.27447, 96.14897 5.41917, ...</td>\n",
       "    </tr>\n",
       "    <tr>\n",
       "      <th>2</th>\n",
       "      <td>South-Block</td>\n",
       "      <td>Exploration</td>\n",
       "      <td>A</td>\n",
       "      <td>0</td>\n",
       "      <td>48.74</td>\n",
       "      <td>150</td>\n",
       "      <td>POLYGON ((96.15021 5.32141, 96.15075 5.27437, ...</td>\n",
       "    </tr>\n",
       "    <tr>\n",
       "      <th>3</th>\n",
       "      <td>Center-Block</td>\n",
       "      <td>Exploration</td>\n",
       "      <td>C</td>\n",
       "      <td>0</td>\n",
       "      <td>48.98</td>\n",
       "      <td>120</td>\n",
       "      <td>POLYGON ((96.14996 5.32193, 96.26084 5.32085, ...</td>\n",
       "    </tr>\n",
       "    <tr>\n",
       "      <th>4</th>\n",
       "      <td>North-Block</td>\n",
       "      <td>Production</td>\n",
       "      <td>A</td>\n",
       "      <td>30</td>\n",
       "      <td>64.55</td>\n",
       "      <td>220</td>\n",
       "      <td>POLYGON ((96.08469 5.41977, 96.21141 5.41977, ...</td>\n",
       "    </tr>\n",
       "  </tbody>\n",
       "</table>\n",
       "</div>"
      ],
      "text/plain": [
       "     Block_Name       Status Operator  num_wells   sq_km  est_reserve  \\\n",
       "0    East-Block   Production        A         20  145.97          100   \n",
       "1    West-Block   Production        B         50  171.38          420   \n",
       "2   South-Block  Exploration        A          0   48.74          150   \n",
       "3  Center-Block  Exploration        C          0   48.98          120   \n",
       "4   North-Block   Production        A         30   64.55          220   \n",
       "\n",
       "                                            geometry  \n",
       "0  POLYGON ((96.40011 5.20866, 96.43375 5.22165, ...  \n",
       "1  POLYGON ((96.15006 5.27447, 96.14897 5.41917, ...  \n",
       "2  POLYGON ((96.15021 5.32141, 96.15075 5.27437, ...  \n",
       "3  POLYGON ((96.14996 5.32193, 96.26084 5.32085, ...  \n",
       "4  POLYGON ((96.08469 5.41977, 96.21141 5.41977, ...  "
      ]
     },
     "execution_count": 29,
     "metadata": {},
     "output_type": "execute_result"
    }
   ],
   "source": [
    "all_blocks"
   ]
  },
  {
   "cell_type": "code",
   "execution_count": 38,
   "metadata": {},
   "outputs": [],
   "source": [
    "all_blocks['tooltip'] = 'Block Name: ' + all_blocks.Block_Name + '<BR> Status: ' + all_blocks.Status + '<BR> Operator: ' + all_blocks.Operator + '<BR> Number of Wells: ' + all_blocks.num_wells.astype(str) + '<BR> Area in Sq. Kilometers ' + all_blocks.sq_km.astype(str) + '<BR> Estimated Reserves in Million of Barrels: '+ all_blocks.est_reserve.astype(str)"
   ]
  },
  {
   "cell_type": "code",
   "execution_count": 40,
   "metadata": {},
   "outputs": [
    {
     "data": {
      "text/html": [
       "\n",
       "        <iframe\n",
       "            width=\"100%\"\n",
       "            height=\"650\"\n",
       "            src=\"http://127.0.0.1:7701/\"\n",
       "            frameborder=\"0\"\n",
       "            allowfullscreen\n",
       "            \n",
       "        ></iframe>\n",
       "        "
      ],
      "text/plain": [
       "<IPython.lib.display.IFrame at 0x20b52212b60>"
      ]
     },
     "metadata": {},
     "output_type": "display_data"
    }
   ],
   "source": [
    "layer_block = dl.GeoJSON(id='block',\n",
    "                        data=json.loads(all_blocks.to_json()),\n",
    "                        hoverStyle=arrow_function(dict(weight=6, fillColor='blue')),\n",
    "                        options=dict(style=dict(color='black', \n",
    "                                    weight=1, \n",
    "                                    dashArray='20, 10',\n",
    "                                    dashOffset='5',\n",
    "                                    opacity=0.7,\n",
    "                                    )))\n",
    "\n",
    "app = JupyterDash()\n",
    "app.layout = dl.Map([layer_block, dl.TileLayer()],\n",
    "                    center=[5.3, 96.3],\n",
    "                    zoom=10,\n",
    "                    style={\n",
    "                        'width': '1000px',\n",
    "                        'height': '500px'\n",
    "                    })\n",
    "\n",
    "app.run_server(mode='inline', port=random.choice(range(2000, 10000)))"
   ]
  },
  {
   "cell_type": "code",
   "execution_count": null,
   "metadata": {},
   "outputs": [],
   "source": []
  },
  {
   "cell_type": "code",
   "execution_count": 55,
   "metadata": {},
   "outputs": [
    {
     "data": {
      "text/plain": [
       "0    A\n",
       "1    B\n",
       "2    A\n",
       "3    C\n",
       "4    A\n",
       "Name: Operator, dtype: object"
      ]
     },
     "execution_count": 55,
     "metadata": {},
     "output_type": "execute_result"
    }
   ],
   "source": [
    "all_blocks['Operator']"
   ]
  },
  {
   "cell_type": "code",
   "execution_count": 56,
   "metadata": {},
   "outputs": [
    {
     "data": {
      "text/plain": [
       "array(['A', 'B', 'C'], dtype=object)"
      ]
     },
     "execution_count": 56,
     "metadata": {},
     "output_type": "execute_result"
    }
   ],
   "source": [
    "pd.unique(all_blocks['Operator'].to_list())"
   ]
  },
  {
   "cell_type": "code",
   "execution_count": 48,
   "metadata": {},
   "outputs": [
    {
     "data": {
      "text/html": [
       "<div>\n",
       "<style scoped>\n",
       "    .dataframe tbody tr th:only-of-type {\n",
       "        vertical-align: middle;\n",
       "    }\n",
       "\n",
       "    .dataframe tbody tr th {\n",
       "        vertical-align: top;\n",
       "    }\n",
       "\n",
       "    .dataframe thead th {\n",
       "        text-align: right;\n",
       "    }\n",
       "</style>\n",
       "<table border=\"1\" class=\"dataframe\">\n",
       "  <thead>\n",
       "    <tr style=\"text-align: right;\">\n",
       "      <th></th>\n",
       "      <th>Block_Name</th>\n",
       "      <th>Status</th>\n",
       "      <th>Operator</th>\n",
       "      <th>num_wells</th>\n",
       "      <th>sq_km</th>\n",
       "      <th>est_reserve</th>\n",
       "      <th>geometry</th>\n",
       "      <th>tooltip</th>\n",
       "    </tr>\n",
       "  </thead>\n",
       "  <tbody>\n",
       "    <tr>\n",
       "      <th>0</th>\n",
       "      <td>East-Block</td>\n",
       "      <td>Production</td>\n",
       "      <td>A</td>\n",
       "      <td>20</td>\n",
       "      <td>145.97</td>\n",
       "      <td>100</td>\n",
       "      <td>POLYGON ((96.40011 5.20866, 96.43375 5.22165, ...</td>\n",
       "      <td>Block Name: East-Block&lt;BR&gt; Status: Production&lt;...</td>\n",
       "    </tr>\n",
       "    <tr>\n",
       "      <th>1</th>\n",
       "      <td>West-Block</td>\n",
       "      <td>Production</td>\n",
       "      <td>B</td>\n",
       "      <td>50</td>\n",
       "      <td>171.38</td>\n",
       "      <td>420</td>\n",
       "      <td>POLYGON ((96.15006 5.27447, 96.14897 5.41917, ...</td>\n",
       "      <td>Block Name: West-Block&lt;BR&gt; Status: Production&lt;...</td>\n",
       "    </tr>\n",
       "    <tr>\n",
       "      <th>2</th>\n",
       "      <td>South-Block</td>\n",
       "      <td>Exploration</td>\n",
       "      <td>A</td>\n",
       "      <td>0</td>\n",
       "      <td>48.74</td>\n",
       "      <td>150</td>\n",
       "      <td>POLYGON ((96.15021 5.32141, 96.15075 5.27437, ...</td>\n",
       "      <td>Block Name: South-Block&lt;BR&gt; Status: Exploratio...</td>\n",
       "    </tr>\n",
       "    <tr>\n",
       "      <th>3</th>\n",
       "      <td>Center-Block</td>\n",
       "      <td>Exploration</td>\n",
       "      <td>C</td>\n",
       "      <td>0</td>\n",
       "      <td>48.98</td>\n",
       "      <td>120</td>\n",
       "      <td>POLYGON ((96.14996 5.32193, 96.26084 5.32085, ...</td>\n",
       "      <td>Block Name: Center-Block&lt;BR&gt; Status: Explorati...</td>\n",
       "    </tr>\n",
       "    <tr>\n",
       "      <th>4</th>\n",
       "      <td>North-Block</td>\n",
       "      <td>Production</td>\n",
       "      <td>A</td>\n",
       "      <td>30</td>\n",
       "      <td>64.55</td>\n",
       "      <td>220</td>\n",
       "      <td>POLYGON ((96.08469 5.41977, 96.21141 5.41977, ...</td>\n",
       "      <td>Block Name: North-Block&lt;BR&gt; Status: Production...</td>\n",
       "    </tr>\n",
       "  </tbody>\n",
       "</table>\n",
       "</div>"
      ],
      "text/plain": [
       "     Block_Name       Status Operator  num_wells   sq_km  est_reserve  \\\n",
       "0    East-Block   Production        A         20  145.97          100   \n",
       "1    West-Block   Production        B         50  171.38          420   \n",
       "2   South-Block  Exploration        A          0   48.74          150   \n",
       "3  Center-Block  Exploration        C          0   48.98          120   \n",
       "4   North-Block   Production        A         30   64.55          220   \n",
       "\n",
       "                                            geometry  \\\n",
       "0  POLYGON ((96.40011 5.20866, 96.43375 5.22165, ...   \n",
       "1  POLYGON ((96.15006 5.27447, 96.14897 5.41917, ...   \n",
       "2  POLYGON ((96.15021 5.32141, 96.15075 5.27437, ...   \n",
       "3  POLYGON ((96.14996 5.32193, 96.26084 5.32085, ...   \n",
       "4  POLYGON ((96.08469 5.41977, 96.21141 5.41977, ...   \n",
       "\n",
       "                                             tooltip  \n",
       "0  Block Name: East-Block<BR> Status: Production<...  \n",
       "1  Block Name: West-Block<BR> Status: Production<...  \n",
       "2  Block Name: South-Block<BR> Status: Exploratio...  \n",
       "3  Block Name: Center-Block<BR> Status: Explorati...  \n",
       "4  Block Name: North-Block<BR> Status: Production...  "
      ]
     },
     "execution_count": 48,
     "metadata": {},
     "output_type": "execute_result"
    }
   ],
   "source": [
    "all_blocks[all_blocks['Block_Name']=='East-Block']"
   ]
  }
 ],
 "metadata": {
  "kernelspec": {
   "display_name": "Waviv_MapProject",
   "language": "python",
   "name": "python3"
  },
  "language_info": {
   "codemirror_mode": {
    "name": "ipython",
    "version": 3
   },
   "file_extension": ".py",
   "mimetype": "text/x-python",
   "name": "python",
   "nbconvert_exporter": "python",
   "pygments_lexer": "ipython3",
   "version": "3.10.9"
  },
  "orig_nbformat": 4
 },
 "nbformat": 4,
 "nbformat_minor": 2
}
